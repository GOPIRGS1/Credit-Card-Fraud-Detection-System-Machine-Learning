{
 "cells": [
  {
   "cell_type": "code",
   "execution_count": 2,
   "id": "f0bca7c0-e640-4681-bf28-1f29219b53f3",
   "metadata": {},
   "outputs": [
    {
     "name": "stdout",
     "output_type": "stream",
     "text": [
      "[LightGBM] [Info] Number of positive: 5986, number of negative: 1031354\n",
      "[LightGBM] [Info] Auto-choosing col-wise multi-threading, the overhead of testing was 0.059768 seconds.\n",
      "You can set `force_col_wise=true` to remove the overhead.\n",
      "[LightGBM] [Info] Total Bins 3619\n",
      "[LightGBM] [Info] Number of data points in the train set: 1037340, number of used features: 17\n",
      "[LightGBM] [Info] [binary:BoostFromScore]: pavg=0.005771 -> initscore=-5.149204\n",
      "[LightGBM] [Info] Start training from score -5.149204\n",
      "Test Accuracy: 0.9952879480208996\n"
     ]
    }
   ],
   "source": [
    "# Import libraries\n",
    "import pandas as pd\n",
    "import numpy as np\n",
    "import joblib\n",
    "from sklearn.preprocessing import LabelEncoder\n",
    "from sklearn.model_selection import train_test_split\n",
    "from sklearn.metrics import accuracy_score\n",
    "import lightgbm as lgb\n",
    "\n",
    "# Load dataset\n",
    "df = pd.read_csv(\"dataset.csv\")\n",
    "\n",
    "# --- Handle categorical features ---\n",
    "categorical_cols = ['merchant', 'category', 'gender', 'job', 'first', 'last', 'street']\n",
    "encoder = {}\n",
    "for col in categorical_cols:\n",
    "    le = LabelEncoder()\n",
    "    df[col] = df[col].astype(str)  # ensure all strings\n",
    "    df[col] = le.fit_transform(df[col])\n",
    "    encoder[col] = le\n",
    "\n",
    "# Save encoder\n",
    "joblib.dump(encoder, 'label_encoder.jb')\n",
    "\n",
    "# --- Handle datetime columns ---\n",
    "df['dob'] = pd.to_datetime(df['dob'], errors='coerce')\n",
    "df['age'] = (pd.to_datetime('today') - df['dob']).dt.days // 365\n",
    "df['age'] = df['age'].fillna(0)\n",
    "df = df.drop(columns=['dob', 'trans_date_trans_time'])\n",
    "\n",
    "# --- Hash credit card number ---\n",
    "df['cc_num'] = df['cc_num'].apply(lambda x: hash(str(x)) % (10**4))\n",
    "\n",
    "# --- Target column ---\n",
    "y = df['is_fraud']\n",
    "X = df.drop(columns=['is_fraud', 'Unnamed: 0', 'trans_num', 'unix_time', 'city', 'state', 'zip'])\n",
    "\n",
    "# --- Optional features ---\n",
    "X['amt_log'] = np.log1p(X['amt'])\n",
    "X['distance_km'] = np.sqrt((X['lat'] - X['merch_lat'])**2 + (X['long'] - X['merch_long'])**2)\n",
    "\n",
    "# --- Train/Test split ---\n",
    "X_train, X_test, y_train, y_test = train_test_split(X, y, test_size=0.2, random_state=42)\n",
    "\n",
    "# --- Train LightGBM Model ---\n",
    "model = lgb.LGBMClassifier(n_estimators=200, random_state=42)\n",
    "model.fit(X_train, y_train)\n",
    "\n",
    "# Save model\n",
    "joblib.dump(model, 'fraud_detection_model.jb')\n",
    "\n",
    "# --- Evaluate ---\n",
    "y_pred = model.predict(X_test)\n",
    "acc = accuracy_score(y_test, y_pred)\n",
    "print(\"Test Accuracy:\", acc)\n"
   ]
  },
  {
   "cell_type": "code",
   "execution_count": null,
   "id": "ec683498-6999-4bf9-a104-59f2274bbb9d",
   "metadata": {},
   "outputs": [],
   "source": []
  }
 ],
 "metadata": {
  "kernelspec": {
   "display_name": "Python [conda env:base] *",
   "language": "python",
   "name": "conda-base-py"
  },
  "language_info": {
   "codemirror_mode": {
    "name": "ipython",
    "version": 3
   },
   "file_extension": ".py",
   "mimetype": "text/x-python",
   "name": "python",
   "nbconvert_exporter": "python",
   "pygments_lexer": "ipython3",
   "version": "3.13.5"
  }
 },
 "nbformat": 4,
 "nbformat_minor": 5
}
